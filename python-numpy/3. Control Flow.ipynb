{
 "cells": [
  {
   "cell_type": "markdown",
   "id": "victorian-festival",
   "metadata": {},
   "source": [
    "# 3. 流程控制：判断与循环\n",
    "掌握了 Python 的基础之后，我们可以让代码作出一些更复杂、智能的行为了。让我们出发，来康康 Python 的判断和循环怎么实现吧！"
   ]
  },
  {
   "cell_type": "code",
   "execution_count": 1,
   "id": "prostate-fellowship",
   "metadata": {},
   "outputs": [],
   "source": [
    "light = 'green'"
   ]
  },
  {
   "cell_type": "markdown",
   "id": "abroad-france",
   "metadata": {},
   "source": [
    "## 判断：`if`\n",
    "如果我们要让 Python 根据不同的情况作出不同的**判断**，那么就要用到 `if` 语句了。\n",
    "\n",
    "比如，如果现在是绿灯，那么让车往前走，写成代码就是："
   ]
  },
  {
   "cell_type": "code",
   "execution_count": 6,
   "id": "pressed-encyclopedia",
   "metadata": {},
   "outputs": [
    {
     "data": {
      "text/plain": [
       "20"
      ]
     },
     "execution_count": 6,
     "metadata": {},
     "output_type": "execute_result"
    }
   ],
   "source": [
    "if light == 'green':\n",
    "    speed = 20\n",
    "\n",
    "if light == 'red':\n",
    "    speed = 0\n",
    "\n",
    "speed"
   ]
  },
  {
   "cell_type": "markdown",
   "id": "alike-worker",
   "metadata": {},
   "source": [
    "我们仔细研究一下上面的语句吧！\n",
    "\n",
    "第一行`if`的意思是**如果** `light == 'green'` 这个布尔值判断成立，就执行下面的代码 `speed = 20`。\n",
    "\n",
    "第二个 `if` 因为 `light` 不等于 `'red'`，所以下面的代码就没有被执行。`speed` 也就还是 `20`。\n",
    "\n",
    "上面的代码也可以简化成下面这样："
   ]
  },
  {
   "cell_type": "code",
   "execution_count": 7,
   "id": "alpine-homework",
   "metadata": {},
   "outputs": [
    {
     "data": {
      "text/plain": [
       "20"
      ]
     },
     "execution_count": 7,
     "metadata": {},
     "output_type": "execute_result"
    }
   ],
   "source": [
    "if light == 'green':\n",
    "    speed = 20\n",
    "else:\n",
    "    speed = 0\n",
    "    \n",
    "speed"
   ]
  },
  {
   "cell_type": "markdown",
   "id": "postal-disney",
   "metadata": {},
   "source": [
    "上面，`else` 的意思就是如果 `if light == 'green'` 成立，就执行 `if` 下面的代码，**否则**执行 `else` 下面的代码。\n",
    "\n",
    "⚠️ 注意：`if` 语句中，不要忘记在 `if` 和 `else` 这行末尾加上冒号 `:`，而且下面选择执行的代码必须缩进（也就是顶出来 4 个空格）。"
   ]
  },
  {
   "cell_type": "markdown",
   "id": "silver-creation",
   "metadata": {},
   "source": [
    "## 循环 `for`\n"
   ]
  }
 ],
 "metadata": {
  "kernelspec": {
   "display_name": "Python 3",
   "language": "python",
   "name": "python3"
  },
  "language_info": {
   "codemirror_mode": {
    "name": "ipython",
    "version": 3
   },
   "file_extension": ".py",
   "mimetype": "text/x-python",
   "name": "python",
   "nbconvert_exporter": "python",
   "pygments_lexer": "ipython3",
   "version": "3.8.1"
  }
 },
 "nbformat": 4,
 "nbformat_minor": 5
}
