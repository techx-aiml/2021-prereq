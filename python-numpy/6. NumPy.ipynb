{
 "cells": [
  {
   "cell_type": "markdown",
   "metadata": {},
   "source": [
    "# 6. NumPy\n",
    "NumPy 是一个强大的 Python 的数学计算库，可以处理例如矩阵乘法、统计函数等数学操作。\n",
    "\n",
    "（若在自己的电脑上运行 NumPy，请先安装 NumPy：）"
   ]
  },
  {
   "cell_type": "code",
   "execution_count": null,
   "metadata": {},
   "outputs": [],
   "source": [
    "%pip install numpy"
   ]
  },
  {
   "cell_type": "markdown",
   "metadata": {},
   "source": [
    "要在 Python 里调用一个库，使用 `import <package> as <name>` 的语法就可以了。"
   ]
  },
  {
   "cell_type": "code",
   "execution_count": 1,
   "metadata": {},
   "outputs": [],
   "source": [
    "import numpy as np"
   ]
  },
  {
   "cell_type": "markdown",
   "metadata": {},
   "source": [
    "## 数组 `np.array`\n",
    "为什么我们要用 NumPy 呢？这是因为它可以以数组的结构，存储并操作大量数据。一个基本的数组可以是一个 1 维的向量。下面就是几种创建向量数组的方式："
   ]
  },
  {
   "cell_type": "code",
   "execution_count": 2,
   "metadata": {},
   "outputs": [
    {
     "name": "stdout",
     "output_type": "stream",
     "text": [
      "[1 2 3 4]\n",
      "[4 3 2 1]\n",
      "[0 1 2 3]\n",
      "[0. 0. 0. 0.]\n",
      "[1. 1. 1. 1.]\n"
     ]
    }
   ],
   "source": [
    "a = np.array([1, 2, 3, 4])\n",
    "b = np.array([4, 3, 2, 1])\n",
    "c = np.arange(4)  # 相当于 Python range(4)\n",
    "d = np.zeros(4)  # 全是 0 的长度为 4 的向量\n",
    "e = np.ones(4)  # 全是 1 的长度为 4 的向量\n",
    "\n",
    "print(a)\n",
    "print(b)\n",
    "print(c)\n",
    "print(d)\n",
    "print(e)"
   ]
  },
  {
   "cell_type": "markdown",
   "metadata": {},
   "source": [
    "用 NumPy 的好处就是可以对大批数据进行各种操作，比如加减乘除："
   ]
  },
  {
   "cell_type": "code",
   "execution_count": 3,
   "metadata": {},
   "outputs": [
    {
     "name": "stdout",
     "output_type": "stream",
     "text": [
      "[2 3 4 5]\n",
      "[0 1 2 3]\n",
      "[1 2 3 4]\n",
      "[1. 2. 3. 4.]\n",
      "[5 5 5 5]\n",
      "[-3 -1  1  3]\n",
      "[4 6 6 4]\n",
      "[0.25       0.66666667 1.5        4.        ]\n"
     ]
    }
   ],
   "source": [
    "# 对每个元素操作\n",
    "print(a + 1)\n",
    "print(a - 1)\n",
    "print(a * 1)\n",
    "print(a / 1)\n",
    "\n",
    "# 对 a 和 b 之间对应的元素操作\n",
    "print(a + b)\n",
    "print(a - b)\n",
    "print(a * b)\n",
    "print(a / b)"
   ]
  },
  {
   "cell_type": "markdown",
   "metadata": {},
   "source": [
    "是不是很方便呢？注意，我们现在不需要 `for` 语法，就可以来对一组数据操作了。\n",
    "\n",
    "我们在线性代数里学习了点乘，那如果我们要点乘 $a \\cdot b = [1, 2, 3, 4] \\cdot [4, 3, 2, 1]$，该怎么做呢？"
   ]
  },
  {
   "cell_type": "code",
   "execution_count": 4,
   "metadata": {},
   "outputs": [
    {
     "data": {
      "text/plain": [
       "20"
      ]
     },
     "execution_count": 4,
     "metadata": {},
     "output_type": "execute_result"
    }
   ],
   "source": [
    "np.dot(a, b)"
   ]
  },
  {
   "cell_type": "markdown",
   "metadata": {},
   "source": [
    "## 2 维矩阵和数组形状\n",
    "我们看到了怎么在数组里创建 1 维的向量，那怎么创建 2 维的矩阵呢？使用多层的列表 `list` 就可以了："
   ]
  },
  {
   "cell_type": "code",
   "execution_count": 5,
   "metadata": {},
   "outputs": [
    {
     "name": "stdout",
     "output_type": "stream",
     "text": [
      "[[1 2 3]\n",
      " [4 5 6]]\n"
     ]
    }
   ],
   "source": [
    "f = np.array([[1, 2, 3], [4, 5, 6]])\n",
    "print(f)"
   ]
  },
  {
   "cell_type": "markdown",
   "metadata": {},
   "source": [
    "上面的 `f` 就是一个 2 × 3 的矩阵。要查看它的形状等信息，可以用 `f.ndim`、`f.shape` 和 `f.size`："
   ]
  },
  {
   "cell_type": "code",
   "execution_count": 6,
   "metadata": {},
   "outputs": [
    {
     "name": "stdout",
     "output_type": "stream",
     "text": [
      "2\n",
      "(2, 3)\n",
      "6\n"
     ]
    }
   ],
   "source": [
    "print(f.ndim)   # 2 维矩阵\n",
    "print(f.shape)  # (2 × 3) 的形状\n",
    "print(f.size)   # 6 个总共元素"
   ]
  },
  {
   "cell_type": "markdown",
   "metadata": {},
   "source": [
    "那我们要改变 `f` 的形状，怎么办呢？"
   ]
  },
  {
   "cell_type": "code",
   "execution_count": 7,
   "metadata": {},
   "outputs": [
    {
     "name": "stdout",
     "output_type": "stream",
     "text": [
      "[[1 2 3]\n",
      " [4 5 6]]\n"
     ]
    }
   ],
   "source": [
    "print(f)"
   ]
  },
  {
   "cell_type": "markdown",
   "metadata": {},
   "source": [
    "要做矩阵置换可以用 `.transpose()`："
   ]
  },
  {
   "cell_type": "code",
   "execution_count": 8,
   "metadata": {},
   "outputs": [
    {
     "name": "stdout",
     "output_type": "stream",
     "text": [
      "[[1 4]\n",
      " [2 5]\n",
      " [3 6]]\n"
     ]
    }
   ],
   "source": [
    "print(f.transpose())"
   ]
  },
  {
   "cell_type": "markdown",
   "metadata": {},
   "source": [
    "矩阵展开成一个 1 维向量 `.flatten()`："
   ]
  },
  {
   "cell_type": "code",
   "execution_count": 9,
   "metadata": {},
   "outputs": [
    {
     "name": "stdout",
     "output_type": "stream",
     "text": [
      "[1 2 3 4 5 6]\n"
     ]
    }
   ],
   "source": [
    "print(f.flatten())"
   ]
  },
  {
   "cell_type": "markdown",
   "metadata": {},
   "source": [
    "转换成给定的形状（3 × 2）`.reshape(shape)`："
   ]
  },
  {
   "cell_type": "code",
   "execution_count": 10,
   "metadata": {},
   "outputs": [
    {
     "name": "stdout",
     "output_type": "stream",
     "text": [
      "[[1 2]\n",
      " [3 4]\n",
      " [5 6]]\n"
     ]
    }
   ],
   "source": [
    "print(f.reshape((3, 2)))"
   ]
  },
  {
   "cell_type": "markdown",
   "metadata": {},
   "source": [
    "同样地，我们可以对矩阵进行各种计算。比如说，如果我们要算 `f` 和它的置换的乘积 $\\mathbf{F}\\mathbf{F}^\\top$ 的话，可以用 `np.matmul`："
   ]
  },
  {
   "cell_type": "code",
   "execution_count": 11,
   "metadata": {},
   "outputs": [
    {
     "data": {
      "text/plain": [
       "array([[14, 32],\n",
       "       [32, 77]])"
      ]
     },
     "execution_count": 11,
     "metadata": {},
     "output_type": "execute_result"
    }
   ],
   "source": [
    "ft = f.transpose()\n",
    "np.matmul(f, ft)"
   ]
  },
  {
   "cell_type": "markdown",
   "metadata": {},
   "source": [
    "或者用 `@` 来更简便地写矩阵乘积："
   ]
  },
  {
   "cell_type": "code",
   "execution_count": 12,
   "metadata": {},
   "outputs": [
    {
     "data": {
      "text/plain": [
       "array([[14, 32],\n",
       "       [32, 77]])"
      ]
     },
     "execution_count": 12,
     "metadata": {},
     "output_type": "execute_result"
    }
   ],
   "source": [
    "f @ ft"
   ]
  },
  {
   "cell_type": "markdown",
   "metadata": {},
   "source": [
    "## 数组索引\n",
    "如果我们想要访问 1 维向量里面的个别元素，可以用和 `list` 一样的方法 `a[index]`（注意索引 `index` 从 0 开始算）："
   ]
  },
  {
   "cell_type": "code",
   "execution_count": 13,
   "metadata": {},
   "outputs": [
    {
     "name": "stdout",
     "output_type": "stream",
     "text": [
      "[1 2 3 4 5 6 7 8]\n",
      "2\n",
      "[2 3 4 5 6 7 8]\n",
      "[1]\n",
      "[2 3]\n"
     ]
    }
   ],
   "source": [
    "a = np.array([1, 2, 3, 4, 5, 6, 7, 8])  # 长度为 8 的数组\n",
    "\n",
    "print(a)\n",
    "print(a[1])    # 第 2 个元素\n",
    "print(a[1:])   # 第 2（含）个之后的所有元素\n",
    "print(a[:1])   # 第 2（不含）个之前的所有元素\n",
    "print(a[1:3])  # 第 2（含）到 4（不含）个元素"
   ]
  },
  {
   "cell_type": "markdown",
   "metadata": {},
   "source": [
    "但是如果是多维数组，比如 2 维的矩阵或者 3 维的张量，怎么访问它的元素呢？我们可以在 `[]` 里间加逗号 `,` 分隔每个轴的索引："
   ]
  },
  {
   "cell_type": "code",
   "execution_count": 14,
   "metadata": {},
   "outputs": [
    {
     "name": "stdout",
     "output_type": "stream",
     "text": [
      "[[0 1 2]\n",
      " [3 4 5]\n",
      " [6 7 8]]\n",
      "5\n",
      "[4 5]\n",
      "[3]\n",
      "[3 4 5]\n",
      "[3 6]\n"
     ]
    }
   ],
   "source": [
    "a = np.arange(9).reshape((3, 3))  # 3 × 3 矩阵\n",
    "\n",
    "print(a)\n",
    "print(a[1, 2])   # 第 2 行第 3 列\n",
    "print(a[1, 1:])  # 第 2 行第 2+ 列（第 2（含）以上的列）\n",
    "print(a[1, :1])  # 第 2 行第 2- 列（第 2（不含）以下的列）\n",
    "print(a[1, :])   # 第 2 行所有列\n",
    "print(a[1:, 0])  # 第 2+ 行第 1 列"
   ]
  },
  {
   "cell_type": "markdown",
   "metadata": {},
   "source": [
    "同样地，3 维张量也可以做类似的操作："
   ]
  },
  {
   "cell_type": "code",
   "execution_count": 15,
   "metadata": {},
   "outputs": [
    {
     "name": "stdout",
     "output_type": "stream",
     "text": [
      "[[[ 0  1  2]\n",
      "  [ 3  4  5]\n",
      "  [ 6  7  8]]\n",
      "\n",
      " [[ 9 10 11]\n",
      "  [12 13 14]\n",
      "  [15 16 17]]\n",
      "\n",
      " [[18 19 20]\n",
      "  [21 22 23]\n",
      "  [24 25 26]]]\n",
      "5\n",
      "[2 5 8]\n"
     ]
    }
   ],
   "source": [
    "a = np.arange(27).reshape((3, 3, 3))  # 3 × 3 × 3 张量\n",
    "\n",
    "print(a)\n",
    "print(a[0, 1, 2])\n",
    "print(a[0, :, 2])\n",
    "# 以此类推"
   ]
  },
  {
   "cell_type": "markdown",
   "metadata": {},
   "source": [
    "## 其它函数\n",
    "NumPy 提供了很多方便的数学函数，请见下面代码例子："
   ]
  },
  {
   "cell_type": "code",
   "execution_count": 16,
   "metadata": {},
   "outputs": [
    {
     "name": "stdout",
     "output_type": "stream",
     "text": [
      "[0.         0.69314718 1.09861229]\n",
      "[ 2.71828183  7.3890561  20.08553692]\n",
      "[0.84147098 0.90929743 0.14112001]\n",
      "[ 0.54030231 -0.41614684 -0.9899925 ]\n",
      "6\n",
      "2.0\n",
      "0.816496580927726\n",
      "3\n",
      "1\n",
      "2\n",
      "0\n"
     ]
    }
   ],
   "source": [
    "a = np.array([1, 2, 3])\n",
    "print(np.log(a))  # 自然对数\n",
    "print(np.exp(a))  # e 的 a 次方\n",
    "print(np.sin(a))  # 正弦 sin\n",
    "print(np.cos(a))  # 余弦 cos\n",
    "\n",
    "print(np.sum(a))  # a 向量之和（也可以写作 a.sum()，下同）\n",
    "print(np.mean(a)) # a 的平均值\n",
    "print(np.std(a))  # a 的标准差\n",
    "print(np.max(a))  # a 的最大值\n",
    "print(np.min(a))  # a 的最小值\n",
    "print(np.argmax(a))  # a 的最大值位置\n",
    "print(np.argmin(a))  # a 的最小值位置"
   ]
  },
  {
   "cell_type": "markdown",
   "metadata": {},
   "source": [
    "这些函数很好用，但是不需要一次全部记住，只要需要用的时候来看一眼它们的名字，或者网上查一下就可以了！"
   ]
  },
  {
   "cell_type": "markdown",
   "metadata": {},
   "source": [
    "## 任务\n",
    "你可以求出下面这个矩阵第 1 行、第 2 列的值的自然对数吗？"
   ]
  },
  {
   "cell_type": "code",
   "execution_count": 17,
   "metadata": {},
   "outputs": [
    {
     "data": {
      "text/plain": [
       "array([[ 0.08815935, -0.14142467,  1.52216895],\n",
       "       [-0.31820414, -0.48454439,  0.93834037],\n",
       "       [-0.26578955, -0.56698932,  0.20433691]])"
      ]
     },
     "execution_count": 17,
     "metadata": {},
     "output_type": "execute_result"
    }
   ],
   "source": [
    "a = np.random.randn(3, 3)  # np.random.randn 是创建随机化的数组的意思\n",
    "a"
   ]
  },
  {
   "cell_type": "markdown",
   "metadata": {},
   "source": [
    "## 小结\n",
    "这一章我们学习了 NumPy 库里面的数组以及它们的各种运算方法。"
   ]
  }
 ],
 "metadata": {
  "kernelspec": {
   "display_name": "Python 3",
   "language": "python",
   "name": "python3"
  },
  "language_info": {
   "codemirror_mode": {
    "name": "ipython",
    "version": 3
   },
   "file_extension": ".py",
   "mimetype": "text/x-python",
   "name": "python",
   "nbconvert_exporter": "python",
   "pygments_lexer": "ipython3",
   "version": "3.8.1"
  }
 },
 "nbformat": 4,
 "nbformat_minor": 4
}
