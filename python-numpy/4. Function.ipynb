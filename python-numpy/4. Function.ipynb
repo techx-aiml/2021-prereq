{
 "cells": [
  {
   "cell_type": "markdown",
   "id": "dried-uncertainty",
   "metadata": {},
   "source": [
    "# 4. 函数\n",
    "在编程的过程中，你可能会重复地想要执行一块固定的代码。Python 中，**函数**（function）是用来封装几行固定的代码的。\n",
    "\n",
    "函数自己不会执行，但是每次被**调用**（call）就会执行。什么意思呢？比如说，如果你要编写一个跟别人打招呼的机器人的程序，而且这个机器人每次见到人都要嘘寒问暖个几句，那不妨把嘘寒问暖的几句都封装到一个函数 `greet` 里："
   ]
  },
  {
   "cell_type": "code",
   "execution_count": 1,
   "id": "fluid-requirement",
   "metadata": {},
   "outputs": [
    {
     "name": "stdout",
     "output_type": "stream",
     "text": [
      "Hello, human!\n",
      "Nice to meet you!\n",
      "How are you?\n",
      "Goodbye!\n",
      "Hello, human!\n",
      "Nice to meet you!\n",
      "How are you?\n",
      "Goodbye!\n",
      "Hello, human!\n",
      "Nice to meet you!\n",
      "How are you?\n",
      "Goodbye!\n"
     ]
    }
   ],
   "source": [
    "def greet():\n",
    "    print('Hello, human!')\n",
    "    print('Nice to meet you!')\n",
    "    print('How are you?')\n",
    "    print('Goodbye!')\n",
    "    \n",
    "greet()\n",
    "greet()\n",
    "greet()"
   ]
  },
  {
   "cell_type": "markdown",
   "id": "cardiac-evolution",
   "metadata": {},
   "source": [
    "在上面的代码里面，`greet` 是一个用来打印四行字符串的函数。它定义的方式是用 `def` 关键词开始，然后是函数名（这里是 `greet`），然后是括号 `()`，最后是冒号 `:`，并在下面缩进的部分写函数是干什么的（这里是打印四行问候的话）。\n",
    "\n",
    "而调用的方式是函数名加括号 `()`，也就是 `greet()`。在这个例子里，每次调用 `greet()` 的时候就会执行 4 行 `print` 来打印问候。而你如果要问候 3 个人，就不需要写好几好几行 `print()` 了，每次只要写一个 `greet()` 就可以了。\n",
    "\n",
    "*所以说，函数也可以说是用来减少重复的代码的。*\n",
    "\n",
    "回到刚才的函数定义，函数就是执行一块给定功能的代码的。那怎么给这块代码输入和输出呢？"
   ]
  },
  {
   "cell_type": "markdown",
   "id": "intellectual-surface",
   "metadata": {},
   "source": [
    "## 参数：函数输入\n",
    "如果我们还是那个机器人，但是我们想要让它个性化一点，每次见到一个人可以称呼这个人的名字，怎么办呢？这时，就可以把人名作为参数输入了："
   ]
  },
  {
   "cell_type": "code",
   "execution_count": 2,
   "id": "faced-expert",
   "metadata": {},
   "outputs": [
    {
     "name": "stdout",
     "output_type": "stream",
     "text": [
      "Hello, George !\n",
      "Hello, David !\n",
      "Hello, Ray !\n",
      "Hello, Thomas !\n"
     ]
    }
   ],
   "source": [
    "def greet(name):\n",
    "    print('Hello,', name, '!')\n",
    "\n",
    "greet('George')\n",
    "greet('David')\n",
    "greet('Ray')\n",
    "greet('Thomas')"
   ]
  },
  {
   "cell_type": "markdown",
   "id": "opening-priest",
   "metadata": {},
   "source": [
    "**参数**（argument）就是一个输入函数的变量。在这里，`greet` 定义了如果有一个 `name` 变量，那就对它做出的行为（也就是打印个性化问候）。具体的方法是把参数名放在 `def greet` 之后的括号里面 `(name)`，并在每次调用 `greet('...')` 时在括号里面写 `name` 的值。\n",
    "\n",
    "如果要用多个参数，用 `,` 隔开就可以："
   ]
  },
  {
   "cell_type": "code",
   "execution_count": 3,
   "id": "fewer-hours",
   "metadata": {},
   "outputs": [
    {
     "name": "stdout",
     "output_type": "stream",
     "text": [
      "Hello, George Yu !\n",
      "Hello, David Wu !\n",
      "Hello, Ray Li !\n",
      "Hello, Thomas Zhu !\n"
     ]
    }
   ],
   "source": [
    "def greet(first_name, last_name):\n",
    "    print('Hello,', first_name, last_name, '!')\n",
    "\n",
    "greet('George', 'Yu')\n",
    "greet('David', 'Wu')\n",
    "greet('Ray', 'Li')\n",
    "greet('Thomas', 'Zhu')"
   ]
  },
  {
   "cell_type": "markdown",
   "id": "passive-transcription",
   "metadata": {},
   "source": [
    "上面定义了两个参数，一个姓一个名，来传入 `greet` 函数。\n",
    "\n",
    "那如果我们的机器人遇到的人，有的人很懒，没有输入名字参数怎么办呢？那么我们就可以用默认参数了："
   ]
  },
  {
   "cell_type": "code",
   "execution_count": 4,
   "id": "reported-evanescence",
   "metadata": {},
   "outputs": [
    {
     "name": "stdout",
     "output_type": "stream",
     "text": [
      "Hello, George !\n",
      "Hello, David !\n",
      "Hello, Ray !\n",
      "Hello, Thomas !\n",
      "Hello, human !\n"
     ]
    }
   ],
   "source": [
    "def greet(name='human'):\n",
    "    print('Hello,', name, '!')\n",
    "\n",
    "greet('George')\n",
    "greet('David')\n",
    "greet('Ray')\n",
    "greet('Thomas')\n",
    "greet()"
   ]
  },
  {
   "cell_type": "markdown",
   "id": "christian-address",
   "metadata": {},
   "source": [
    "上面的例子里，在第一行定义的时候我们已经给了 `name` 一个默认值 `'human'` 了。如果在调用的时候，如果我们传入了 `name` 参数（`greet('...')`），那么传入的值就会覆盖 `name` 的默认值。否则，如果我们没有传入任何值（`greet()`），那么 `name` 就会取默认值 `'human'`。\n",
    "\n",
    "结果就是，如果对方说了名字，机器人就以名字问候；否则就以人类 `'human'` 来笼统地问候。"
   ]
  },
  {
   "cell_type": "markdown",
   "id": "educated-circuit",
   "metadata": {},
   "source": [
    "还有一个小细节，就是调用函数的时候，可以写也可以不写参数名 `name`，两者没有区别："
   ]
  },
  {
   "cell_type": "code",
   "execution_count": 5,
   "id": "completed-lemon",
   "metadata": {},
   "outputs": [
    {
     "name": "stdout",
     "output_type": "stream",
     "text": [
      "Hello, Thomas !\n",
      "Hello, Thomas !\n"
     ]
    }
   ],
   "source": [
    "greet('Thomas')\n",
    "greet(name='Thomas')"
   ]
  },
  {
   "cell_type": "markdown",
   "id": "absolute-junction",
   "metadata": {},
   "source": [
    "## 返回：函数输出\n",
    "上面每一个函数里，我们只让我们的机器人去打印一串话。但是如果我们要这个函数输出有意义的值，并用这个值做下一步的操作怎么办呢？\n",
    "\n",
    "比如，如果有一个函数要让机器输入一句话，把这句话的语气变得热烈一点，最后返回这句话，怎么办呢？"
   ]
  },
  {
   "cell_type": "code",
   "execution_count": 6,
   "id": "administrative-hostel",
   "metadata": {},
   "outputs": [
    {
     "name": "stdout",
     "output_type": "stream",
     "text": [
      "Hi!\n"
     ]
    }
   ],
   "source": [
    "def intensify(sentence):\n",
    "    sentence += '!'\n",
    "    return sentence\n",
    "\n",
    "strong_sentence = intensify('Hi')\n",
    "print(strong_sentence)"
   ]
  },
  {
   "cell_type": "markdown",
   "id": "understanding-adelaide",
   "metadata": {},
   "source": [
    "代码的前三行就对应\n",
    "1. 定义“热烈化”函数 `intensify` 并定义输入参数 `sentence`\n",
    "2. 定义函数行为（加个感叹号）\n",
    "3. 定义输出，或者叫**返回值**（return value），也就是加了感叹号的句子 `sentence`\n",
    "\n",
    "当我们在一个函数中写 `return value` 的时候，它就会立即结束，并**返回**一个值到调用函数的地方。比方说上面代码第 5 行调用了 `intensify` 函数，它的返回值（也就是 `'Hi!'`）会被存到 `strong_sentence` 里面。"
   ]
  },
  {
   "cell_type": "markdown",
   "id": "surface-cincinnati",
   "metadata": {},
   "source": [
    "## 任务\n",
    "1. 你可以写一个函数 `add`，让它输入一个或两个数，并输出它们的和吗？（如果只有一个输入，返回这个输入就可以了）"
   ]
  },
  {
   "cell_type": "code",
   "execution_count": null,
   "id": "pursuant-platinum",
   "metadata": {},
   "outputs": [],
   "source": []
  },
  {
   "cell_type": "markdown",
   "id": "neural-housing",
   "metadata": {},
   "source": [
    "2. 你可以写一个函数 `add_list`，让它输入一个或两个长度相同的 `list`，并输出它们每一位上的和吗？（例：输入 `[1, 2, 3]` 就输出 `[1, 2, 3]`，输入 `[1, 2, 3], [4, 5, 6]` 就输出 `[5, 7, 9]`）"
   ]
  },
  {
   "cell_type": "code",
   "execution_count": null,
   "id": "tight-hospital",
   "metadata": {},
   "outputs": [],
   "source": []
  },
  {
   "cell_type": "markdown",
   "id": "military-source",
   "metadata": {},
   "source": [
    "## 小结\n",
    "本章我们学习了函数（function），它可以用来封装几行特定功能的固定代码。函数可以输入参数（arguments）并输出返回（return）一个值。"
   ]
  }
 ],
 "metadata": {
  "kernelspec": {
   "display_name": "Python 3",
   "language": "python",
   "name": "python3"
  },
  "language_info": {
   "codemirror_mode": {
    "name": "ipython",
    "version": 3
   },
   "file_extension": ".py",
   "mimetype": "text/x-python",
   "name": "python",
   "nbconvert_exporter": "python",
   "pygments_lexer": "ipython3",
   "version": "3.8.1"
  }
 },
 "nbformat": 4,
 "nbformat_minor": 5
}
