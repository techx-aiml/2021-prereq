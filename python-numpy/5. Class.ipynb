{
 "cells": [
  {
   "cell_type": "markdown",
   "id": "emotional-tunnel",
   "metadata": {},
   "source": [
    "# 5. 类\n",
    "现实生活中，我们可以遇到很多东西，可以是具体的一个实物（例如：我家的狗），也可以是一个抽象的类别（例如：动物）。Python 就可以很好地表示这种**类**（class）和**实例**（instance）之间的关系。\n",
    "\n",
    "听起来是不是挺玄乎的？我们举个例子就知道了。假设我们要定义一个“动物”类，而我家的狗就是属于这个类的一个实例，那我们可以这么写："
   ]
  },
  {
   "cell_type": "code",
   "execution_count": 1,
   "id": "medical-typing",
   "metadata": {},
   "outputs": [
    {
     "name": "stdout",
     "output_type": "stream",
     "text": [
      "<class '__main__.Animal'>\n",
      "<__main__.Animal object at 0x10ef07880>\n"
     ]
    }
   ],
   "source": [
    "# 定义类\n",
    "class Animal:\n",
    "    pass\n",
    "\n",
    "# 定义实例\n",
    "my_dog = Animal()\n",
    "\n",
    "print(Animal)\n",
    "print(my_dog)"
   ]
  },
  {
   "cell_type": "markdown",
   "id": "neither-hurricane",
   "metadata": {},
   "source": [
    "定义的方法是先定义“动物”类：`class` 开始，然后是类名，最后是 `:`，下面缩进的部分是类的主体（现在主体没有内容，所以用 `pass` 顶替）。其次是定义实例，方法就是类名加上 `()` 就可以了。现在，`Animal` 就是一个类，而 `my_dog` 就是属于 `Animal` 的一个实例。\n",
    "\n",
    "你可能会问，这样定义有什么用呢？"
   ]
  },
  {
   "cell_type": "markdown",
   "id": "bibliographic-reading",
   "metadata": {},
   "source": [
    "## 类属性和类方法\n",
    "一个类可以有各种属性（attribute），也就是属于这个类的性质。比如说，动物可能有颜色、大小、名字等。为了存放这些信息，我们可以运用类属性："
   ]
  },
  {
   "cell_type": "code",
   "execution_count": 2,
   "id": "antique-chick",
   "metadata": {},
   "outputs": [
    {
     "name": "stdout",
     "output_type": "stream",
     "text": [
      "yellow\n",
      "Tom\n"
     ]
    }
   ],
   "source": [
    "class Animal:\n",
    "    def __init__(self, color, size, name=None):\n",
    "        self.color = color\n",
    "        self.size = size\n",
    "        self.name = name\n",
    "    \n",
    "my_dog = Animal('yellow', 10)\n",
    "my_cat = Animal('white', 8, name='Tom')\n",
    "\n",
    "print(my_dog.color)\n",
    "print(my_cat.name)"
   ]
  },
  {
   "cell_type": "markdown",
   "id": "critical-heavy",
   "metadata": {},
   "source": [
    "我们一行一行过一遍上面的代码：\n",
    "* `class Animal` 定义了动物类。\n",
    "* `def __init__(self, color, size, name=None):` 定义了接受几个参数的 `__init__` 函数。`__init__` 是个特殊的函数名，它会在每次定义 `Animal` 的实例的时候被 Python 调用。注意：第一个参数必须是 `self`，`self` 的意思是被创建的实例，比如 `my_dog`、`your_cat`。\n",
    "* `self.color = color` 把下面定义实例时传进来的参数 `color` 存到这个实例里面了。点 `.` 表示**属性**关系，`self.color` 就是这个实例所包含的**属性** `color`，意思就是这个具体的动物的颜色。\n",
    "* 下面 2 行同上。\n",
    "* `my_dog = Animal('yellow', 10)` 定义了一个具体的动物实例——我的狗。定义的方式和调用函数的方式一样，我们传进去的参数 `'yellow'` 和 `10` 会被传到 `__init__` 方法除了 `self` 之外的参数里，`__init__` 再用上面的 `self`，把颜色 `'yellow'`、大小 `10` 存到 `my_dog` 里面。现在，我的狗就有属性了：它是黄色的、大小为 10 的狗。\n",
    "* `my_cat = Animal('white', 8, name='Tom')` 定义了另一个实例——我的猫。`Animal` 的 `name` 默认为 `None`，意思就是没有被命名，但是这被我们传入的 `name='Tom'` 所覆盖了，所以我的猫就有名字 Tom 了。\n",
    "* `print(my_dog.color)` 用 `.` 符号来读取 `my_dog` 的 `color` 属性。\n",
    "* `print(my_cat.name)` 同上。\n",
    "\n",
    "类除了有类属性，也可以有类**方法**（method）。类方法和类属性很像，唯一的不同是它是一个可以调用的函数，而不只是一个变量。比如说，如果动物会叫，那么就可以定义一个属于 `Animal` 的 `shout` 方法："
   ]
  },
  {
   "cell_type": "code",
   "execution_count": 3,
   "id": "referenced-coast",
   "metadata": {},
   "outputs": [
    {
     "name": "stdout",
     "output_type": "stream",
     "text": [
      "Aaaaahhhhh!!!\n",
      "Aaaaahhhhh!!!\n",
      "My name is Tom\n"
     ]
    }
   ],
   "source": [
    "class Animal:\n",
    "    def __init__(self, color, size, name=None):\n",
    "        self.color = color\n",
    "        self.size = size\n",
    "        self.name = name\n",
    "    \n",
    "    def shout(self):\n",
    "        print('Aaaaahhhhh!!!')\n",
    "        if self.name is not None:\n",
    "            print('My name is', self.name)\n",
    "    \n",
    "my_dog = Animal('yellow', 10)\n",
    "my_cat = Animal('white', 8, name='Tom')\n",
    "\n",
    "my_dog.shout()\n",
    "my_cat.shout()"
   ]
  },
  {
   "cell_type": "markdown",
   "id": "foreign-district",
   "metadata": {},
   "source": [
    "我们在原来的基础上，在 `Animal` 这个类里面，加上了一个 `shout` 函数。同样地，它的第一个参数是 `self`，在下面 `my_dog.shout()` 这一行，Python 会自动把 `my_dog` 传到 `self` 里。`shout` 函数先打印了一嗓子 `'Aaaaahhhhh!!!'`，然后判断这个实例有没有名字 `self.name` 来选择性地自我介绍。`my_cat.name` 是 `None`，所以我的狗就没有自我介绍，而我的猫就介绍了它的名字。\n",
    "\n",
    "题外话：要判断一个变量 `x` 是不是 `None`，我们一般不用 `x == None` / `x != None`，而用 `x is None` / `x is not None` 的语法。\n",
    "\n",
    "总结来说，类属性和类方法，就是用来给一个类和它的实例添加数据与功能的。"
   ]
  },
  {
   "cell_type": "markdown",
   "id": "forward-blackberry",
   "metadata": {},
   "source": [
    "## 继承\n",
    "现实生活中，动物也不只一种，可以有笼统的动物类 `Animal`，也可以有具体的狗 `Dog` 甚至拉布拉多 `Labrador` 类。我们可以给这些种类设置单独的类，但是也可以用继承（inherit）的方法来表示它们的关系。如果 `Dog` 是一个具体的 `Animal` 的子类别，我们就说 `Dog` 继承了 `Animal`。定义继承的方法如下："
   ]
  },
  {
   "cell_type": "code",
   "execution_count": 4,
   "id": "equal-composite",
   "metadata": {},
   "outputs": [
    {
     "name": "stdout",
     "output_type": "stream",
     "text": [
      "Woof\n",
      "My dog is gold\n",
      "Aaaaahhhhh!!!\n",
      "My name is Tom\n"
     ]
    }
   ],
   "source": [
    "class Animal:\n",
    "    def __init__(self, color, size, name=None):\n",
    "        self.color = color\n",
    "        self.size = size\n",
    "        self.name = name\n",
    "    \n",
    "    def shout(self):\n",
    "        print('Aaaaahhhhh!!!')\n",
    "        if self.name is not None:\n",
    "            print('My name is', self.name)\n",
    "\n",
    "class Cat(Animal):  # Cat 继承 Animal\n",
    "    pass\n",
    "\n",
    "class Dog(Animal):  # Dog 继承 Animal\n",
    "    def bark(self):\n",
    "        print('Woof')\n",
    "\n",
    "class Labrador(Dog):  # Labrador 继承 Dog\n",
    "    def __init__(self, size, name=None):\n",
    "        color = 'gold'\n",
    "        super().__init__(color, size, name=name)\n",
    "\n",
    "my_dog = Labrador(10)\n",
    "my_cat = Cat('white', 8, name='Tom')\n",
    "\n",
    "my_dog.bark()\n",
    "print('My dog is', my_dog.color)\n",
    "my_cat.shout()"
   ]
  },
  {
   "cell_type": "markdown",
   "id": "organized-worship",
   "metadata": {},
   "source": [
    "继承的具体写法是在 `class` 定义那一行，类名的后面加个括号，里面写这个类是从谁继承的。在上面的例子里，猫和狗都是动物的一种，所以 `Cat` 和 `Dog` 都继承了 `Animal`；`Labrador` 继续继承了 `Dog`。其中，`Cat` 是 `Animal` 的子类（subclass），`Animal` 是 `Cat` 的超类（superclass）。\n",
    "\n",
    "子类可以定义更多的类方法。比如说，狗会狗吠，所以我们在 `Dog` 下面定义了狗吠方法 `bark`，调用的时候输出 `'Woof'`。我的狗虽然是个拉布拉多，但是拉布拉多也继承了狗，所以拉布拉多也可以狗吠（`my_dog.bark()`）。\n",
    "\n",
    "不仅如此，子类可以重写它超类的方法。比如说，`Labrador` 虽然是一个 `Animal`，但是没有继承它的 `__init__`，因为它自己写了一个 `__init__` 方法。因为所有拉布拉多都是金毛，所以在它自己的 `Labrador.__init__` 里面，定义了变量 `color = 'gold'`，并用它来用 `super().__init__` 把颜色、大小、名字传给 `Dog.__init__` 方法，也就是 `Animal.__init__`。其中，`super()` 方法就返回了拉布拉多的超类 `Dog`。这样一来，在定义一个拉布拉多实例的时候，就不需要写出它的 `color` 了，因为它知道应该是金毛的。"
   ]
  },
  {
   "cell_type": "markdown",
   "id": "guilty-wales",
   "metadata": {},
   "source": [
    "## 任务\n",
    "下面的代码定义了一个 2 维向量的类。"
   ]
  },
  {
   "cell_type": "code",
   "execution_count": 5,
   "id": "fantastic-insertion",
   "metadata": {},
   "outputs": [
    {
     "name": "stdout",
     "output_type": "stream",
     "text": [
      "[3, 4]\n",
      "5.0\n",
      "[2, 6]\n"
     ]
    }
   ],
   "source": [
    "class Vector2D:\n",
    "    def __init__(self, x, y):\n",
    "        self.x = x\n",
    "        self.y = y\n",
    "\n",
    "    def __str__(self):  # __str__ 是一个特殊函数，可以定义实例怎么被 print 出来\n",
    "        return '[' + str(self.x) + ', ' + str(self.y) + ']'\n",
    "\n",
    "    def norm(self):  # 向量长度/范数\n",
    "        return (self.x ** 2 + self.y ** 2) ** 0.5  # 其中 ** 是次方的意思\n",
    "\n",
    "    def plus(self, other):  # 向量加法\n",
    "        result_vector = Vector2D(self.x + other.x, self.y + other.y)\n",
    "        return result_vector\n",
    "\n",
    "\n",
    "v = Vector2D(3, 4)\n",
    "u = Vector2D(-1, 2)\n",
    "\n",
    "print(v)\n",
    "print(v.norm())\n",
    "print(v.plus(u))"
   ]
  },
  {
   "cell_type": "markdown",
   "id": "surgical-grace",
   "metadata": {},
   "source": [
    "你可以理解上面的代码吗？如果可以的话，你可以修改上面的代码，添加这些类方法吗：\n",
    "1. `minus(self, other)` 向量减法\n",
    "  * `v.minus(u)` &rarr; $[4,2]$\n",
    "\n",
    "\n",
    "2. `dot(self, other)` 向量点乘\n",
    "  * `v.dot(u)` &rarr; $5$\n",
    "\n",
    "进阶任务：你可以写一个 3 维向量的类吗？或是任意 $n$ 维的吗？"
   ]
  },
  {
   "cell_type": "markdown",
   "id": "global-leone",
   "metadata": {},
   "source": [
    "## 小结\n",
    "一个类（class）就是一些东西的类别，而一个实例（instance）就是属于某一个类的具体物体。\n",
    "\n",
    "类可以给 Python 编程带来这些优点：\n",
    "* 可以在类里定义各种方法和属性，这些“类方法”（method）和“类属性”（attribute）在它的实例里面可以使用，这样可以结构化地存放数据和函数\n",
    "* 用类和实例的编程叫**面向对象编程**（object-oriented programming），可以方便有效地表示、操控、运用、继承各种类"
   ]
  }
 ],
 "metadata": {
  "kernelspec": {
   "display_name": "Python 3",
   "language": "python",
   "name": "python3"
  },
  "language_info": {
   "codemirror_mode": {
    "name": "ipython",
    "version": 3
   },
   "file_extension": ".py",
   "mimetype": "text/x-python",
   "name": "python",
   "nbconvert_exporter": "python",
   "pygments_lexer": "ipython3",
   "version": "3.8.1"
  }
 },
 "nbformat": 4,
 "nbformat_minor": 5
}
