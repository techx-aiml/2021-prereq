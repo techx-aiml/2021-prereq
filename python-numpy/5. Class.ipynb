{
 "cells": [
  {
   "cell_type": "markdown",
   "id": "mobile-contract",
   "metadata": {},
   "source": [
    "# 5. 类\n",
    "现实生活中，我们可以遇到很多东西，可以是具体的一个实物（例如：我家的狗），也可以是一个抽象的类别（例如：动物）。Python 就可以很好地表示这种**类**（class）和**实例**（instance）之间的关系。\n",
    "\n",
    "听起来是不是挺玄乎的？我们举个例子就知道了。假设我们要定义一个“动物”类，而我家的狗就是属于这个类的一个实例，那我们可以这么写："
   ]
  },
  {
   "cell_type": "code",
   "execution_count": 3,
   "id": "center-treat",
   "metadata": {},
   "outputs": [
    {
     "name": "stdout",
     "output_type": "stream",
     "text": [
      "<class '__main__.Animal'>\n",
      "<__main__.Animal object at 0x11097f5e0>\n"
     ]
    }
   ],
   "source": [
    "# 定义类\n",
    "class Animal:\n",
    "    pass\n",
    "\n",
    "# 定义实例\n",
    "my_dog = Animal()\n",
    "\n",
    "print(Animal)\n",
    "print(my_dog)"
   ]
  },
  {
   "cell_type": "markdown",
   "id": "alone-oxygen",
   "metadata": {},
   "source": [
    "定义的方法是先定义“动物”类：`class` 开始，然后是类名，最后是 `:`，下面缩进的部分是类的主体（现在主体没有内容，所以用 `pass` 顶替）。其次是定义实例，方法就是类名加上 `()` 就可以了。现在，`Animal` 就是一个类，而 `my_dog` 就是属于 `Animal` 的一个实例。\n",
    "\n",
    "你可能会问，这样定义有什么用呢？"
   ]
  },
  {
   "cell_type": "markdown",
   "id": "interracial-force",
   "metadata": {},
   "source": [
    "## 类属性和类方法\n",
    "一个类可以有各种属性。比如说，动物可能有颜色、大小、名字等。"
   ]
  },
  {
   "cell_type": "markdown",
   "id": "legendary-conjunction",
   "metadata": {},
   "source": [
    "## 小结\n",
    "一个类（class）就是一些东西的类别，而一个实例（instance）就是属于某一个类的具体物体。\n",
    "\n",
    "类可以给 Python 编程带来这些优点：\n",
    "* 可以在类里定义各种方法和属性，这些“类方法”和“类属性”在它的实例里面也可以用，这样可以结构化地存放数据和函数\n",
    "* 用类和实例的编程叫**面向对象编程**（object-oriented programming），可以方便有效地表示、操控、运用、继承各种类"
   ]
  }
 ],
 "metadata": {
  "kernelspec": {
   "display_name": "Python 3",
   "language": "python",
   "name": "python3"
  },
  "language_info": {
   "codemirror_mode": {
    "name": "ipython",
    "version": 3
   },
   "file_extension": ".py",
   "mimetype": "text/x-python",
   "name": "python",
   "nbconvert_exporter": "python",
   "pygments_lexer": "ipython3",
   "version": "3.8.1"
  }
 },
 "nbformat": 4,
 "nbformat_minor": 5
}
